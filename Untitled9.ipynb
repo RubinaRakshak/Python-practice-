{
 "cells": [
  {
   "cell_type": "code",
   "execution_count": null,
   "metadata": {},
   "outputs": [],
   "source": [
    "year=int(input(\"Enter year to check leap year!\"))\n",
    "if year%4==0:\n",
    "    if year%100==0:\n",
    "        if year%400==0:\n",
    "            print(\"year is a leap year!\")\n",
    "        else:\n",
    "            print(f\"{year} is not a leap year!\")\n",
    "    else:\n",
    "        print(f\"{year}is a leap year!\")\n",
    "else:\n",
    "    print(\"{} is not a leap year!\".format(year))"
   ]
  },
  {
   "cell_type": "code",
   "execution_count": null,
   "metadata": {},
   "outputs": [],
   "source": [
    "sum=0\n",
    "for i in range(1,100):\n",
    "    for j in range(1,i):\n",
    "        if i%j==0:\n",
    "            sum=sum+j\n",
    "        "
   ]
  },
  {
   "cell_type": "code",
   "execution_count": 4,
   "metadata": {},
   "outputs": [
    {
     "name": "stdout",
     "output_type": "stream",
     "text": [
      "6\n",
      "28\n"
     ]
    }
   ],
   "source": [
    "#perfect number \n",
    "\n",
    "for i in range(1,100):\n",
    "    sum=0\n",
    "    j=1\n",
    "    for j in range(1,i):\n",
    "        if i%j==0:\n",
    "            sum=sum+j\n",
    "        j=j+1\n",
    "    if sum==j:\n",
    "        print(sum)"
   ]
  },
  {
   "cell_type": "code",
   "execution_count": null,
   "metadata": {},
   "outputs": [],
   "source": [
    "#important\n",
    "lower =1\n",
    "upper=10000\n",
    "print(f\"perfect no. b/w {lower} and {upper}\")\n",
    "for num in range(lower,upper):\n",
    "    sum=0\n",
    "    i=1\n",
    "    for i in range(1,num):\n",
    "        if num%i==0:\n",
    "            sum=sum+i\n",
    "        i=i+1\n",
    "    if sum==num:\n",
    "        print(sum)"
   ]
  },
  {
   "cell_type": "code",
   "execution_count": 3,
   "metadata": {},
   "outputs": [
    {
     "name": "stdout",
     "output_type": "stream",
     "text": [
      "enter n value:9\n",
      "2 is a prime number\n",
      "3 is a prime number\n",
      "4 is not a prime number\n",
      "5 is a prime number\n",
      "6 is not a prime number\n",
      "7 is a prime number\n",
      "8 is not a prime number\n",
      "9 is not a prime number\n"
     ]
    }
   ],
   "source": [
    "#prime number \n",
    "\n",
    "n=int(input(\"enter n value:\"))\n",
    "for num in range(1,n+1):\n",
    "    if num>1:\n",
    "        for i in range(2,num):\n",
    "            if num%i==0:\n",
    "                print(f\"{num} is not a prime number\")\n",
    "                break\n",
    "        else:\n",
    "            print(f\"{num} is a prime number\")\n",
    "            \n"
   ]
  },
  {
   "cell_type": "code",
   "execution_count": 7,
   "metadata": {},
   "outputs": [
    {
     "name": "stdout",
     "output_type": "stream",
     "text": [
      "2\n",
      "2\n",
      "3\n",
      "2\n",
      "3\n",
      "4\n",
      "2\n",
      "3\n",
      "4\n",
      "5\n",
      "2\n",
      "3\n",
      "4\n",
      "5\n",
      "6\n",
      "2\n",
      "3\n",
      "4\n",
      "5\n",
      "6\n",
      "7\n",
      "2\n",
      "3\n",
      "4\n",
      "5\n",
      "6\n",
      "7\n",
      "8\n"
     ]
    }
   ],
   "source": [
    "\n",
    "for num in range(2,10):\n",
    "    for i in range(2,num):\n",
    "        print(i)"
   ]
  },
  {
   "cell_type": "code",
   "execution_count": 14,
   "metadata": {},
   "outputs": [
    {
     "name": "stdout",
     "output_type": "stream",
     "text": [
      "2\n"
     ]
    }
   ],
   "source": [
    "for i in range(2,3):\n",
    "    \n",
    "    print(i)"
   ]
  },
  {
   "cell_type": "code",
   "execution_count": 2,
   "metadata": {},
   "outputs": [
    {
     "name": "stdout",
     "output_type": "stream",
     "text": [
      "1\n",
      "1\n",
      "2\n"
     ]
    }
   ],
   "source": [
    "#j=1\n",
    "for i in range(1,4):\n",
    "    for j in range(1,i):\n",
    "        print(j)"
   ]
  },
  {
   "cell_type": "code",
   "execution_count": 17,
   "metadata": {},
   "outputs": [
    {
     "name": "stdout",
     "output_type": "stream",
     "text": [
      "2\n"
     ]
    }
   ],
   "source": [
    "for num in range(1,3+1):\n",
    "    for i in range(2,num):\n",
    "        print(i)\n",
    "               \n",
    "               "
   ]
  },
  {
   "cell_type": "code",
   "execution_count": 8,
   "metadata": {},
   "outputs": [
    {
     "name": "stdout",
     "output_type": "stream",
     "text": [
      "Prime numbers between 1 and 12 are:\n",
      "2\n",
      "3\n",
      "5\n",
      "7\n",
      "11\n"
     ]
    }
   ],
   "source": [
    "lower = 1\n",
    "upper = 12\n",
    "\n",
    "print(\"Prime numbers between\", lower, \"and\", upper, \"are:\")\n",
    "\n",
    "for num in range(lower, upper + 1):\n",
    "   # all prime numbers are greater than 1\n",
    "   if num > 1:\n",
    "        for i in range(2, num):\n",
    "            if (num % i) == 0:\n",
    "                break\n",
    "        else:\n",
    "            print(num)"
   ]
  },
  {
   "cell_type": "code",
   "execution_count": 12,
   "metadata": {},
   "outputs": [
    {
     "name": "stdout",
     "output_type": "stream",
     "text": [
      "1\n"
     ]
    }
   ],
   "source": [
    "rev=\"123\"\n",
    "print(rev[0::-1])"
   ]
  },
  {
   "cell_type": "code",
   "execution_count": 1,
   "metadata": {},
   "outputs": [
    {
     "name": "stdout",
     "output_type": "stream",
     "text": [
      "anibur\n"
     ]
    }
   ],
   "source": [
    "string=\"rubina\"\n",
    "reverse_string=string[::-1]\n",
    "print(reverse_string)"
   ]
  },
  {
   "cell_type": "code",
   "execution_count": 5,
   "metadata": {},
   "outputs": [
    {
     "name": "stdout",
     "output_type": "stream",
     "text": [
      "anibur\n"
     ]
    }
   ],
   "source": [
    "string=\"rubina\"\n",
    "r=\"\"\n",
    "for i in string:\n",
    "    r=i+r\n",
    "print(r)"
   ]
  },
  {
   "cell_type": "code",
   "execution_count": null,
   "metadata": {},
   "outputs": [],
   "source": [
    "def reverse(string):\n",
    "    string = string[::-1]\n",
    "    return string\n",
    "string=\"rubina\"\n",
    "reverse(string)"
   ]
  },
  {
   "cell_type": "code",
   "execution_count": 16,
   "metadata": {},
   "outputs": [
    {
     "name": "stdout",
     "output_type": "stream",
     "text": [
      "12\n"
     ]
    }
   ],
   "source": [
    "n=121\n",
    "n=n//10\n",
    "print(n)"
   ]
  },
  {
   "cell_type": "code",
   "execution_count": 14,
   "metadata": {},
   "outputs": [
    {
     "name": "stdout",
     "output_type": "stream",
     "text": [
      "321 reverse number is \n"
     ]
    }
   ],
   "source": [
    "n=123\n",
    "temp=n\n",
    "rev=0\n",
    "while(n>0):\n",
    "    dig = n%10\n",
    "    rev=rev*10+dig\n",
    "    n=n//10\n",
    "if (temp!=rev):\n",
    "    print(rev,\"reverse number is \")\n",
    "else:\n",
    "    print(rev,\"not a reverse number \" )"
   ]
  },
  {
   "cell_type": "code",
   "execution_count": 6,
   "metadata": {},
   "outputs": [
    {
     "name": "stdout",
     "output_type": "stream",
     "text": [
      "enter the number28\n",
      "28 is perfect number\n"
     ]
    }
   ],
   "source": [
    "#perfect number\n",
    "n=int(input(\"enter the number\"))\n",
    "i=1\n",
    "sum=0\n",
    "while(i<n):\n",
    "    if(n%i==0):\n",
    "        sum=sum+i\n",
    "    i=i+1\n",
    "if(sum==n):\n",
    "    print(n,\"is perfect number\")\n",
    "else:\n",
    "    print(n,\"is not a perfect number\")"
   ]
  },
  {
   "cell_type": "code",
   "execution_count": 18,
   "metadata": {},
   "outputs": [
    {
     "name": "stdout",
     "output_type": "stream",
     "text": [
      "321 is a reverse number\n"
     ]
    }
   ],
   "source": [
    "n=123\n",
    "temp=n\n",
    "rev=0\n",
    "while(n>0):\n",
    "    a=n%10\n",
    "    rev=rev*10+a\n",
    "    n=n//10\n",
    "if (temp==rev):\n",
    "    print(rev,\"is not a reverse number\")\n",
    "else:\n",
    "    print(rev,\"is a reverse number\")"
   ]
  },
  {
   "cell_type": "code",
   "execution_count": null,
   "metadata": {},
   "outputs": [],
   "source": [
    "a=[]\n",
    "n=int(input(\"enter number of elements\"))\n",
    "for i in range(1,n+1):\n",
    "    b=int(input(\"enter elements \"))\n",
    "    a.append(b)\n",
    "print(a )"
   ]
  },
  {
   "cell_type": "code",
   "execution_count": 17,
   "metadata": {},
   "outputs": [
    {
     "name": "stdout",
     "output_type": "stream",
     "text": [
      "0\n",
      "1\n",
      "2\n",
      "3\n",
      "4\n"
     ]
    }
   ],
   "source": [
    "\n",
    "\n",
    "for i in range(5):\n",
    "    print(i)"
   ]
  },
  {
   "cell_type": "code",
   "execution_count": 7,
   "metadata": {},
   "outputs": [
    {
     "name": "stdout",
     "output_type": "stream",
     "text": [
      "enter the range of fibo:5\n",
      "0\n",
      "1\n",
      "1\n",
      "2\n",
      "3\n"
     ]
    }
   ],
   "source": [
    "n=int(input('enter the range of fibo:'))\n",
    "\n",
    "def fibo(n):\n",
    "    if n<=1:\n",
    "        return n\n",
    "    else:\n",
    "        return (fibo(n-1))+(fibo(n-2))\n",
    "for i in range(n):\n",
    "    print(fibo(i))"
   ]
  },
  {
   "cell_type": "code",
   "execution_count": 5,
   "metadata": {},
   "outputs": [
    {
     "name": "stdout",
     "output_type": "stream",
     "text": [
      "enter the value to check for perfect number:27\n",
      "27 is not a perfect number\n"
     ]
    }
   ],
   "source": [
    "n=int(input(\"enter the value to check for perfect number:\"))\n",
    "sum=0\n",
    "i=1\n",
    "for i in range(1,n):\n",
    "    if n%i==0:\n",
    "        sum=sum+i\n",
    "    i=i+1\n",
    "if sum==n:\n",
    "    print(f\"{n} is a perfect number:\")\n",
    "else:\n",
    "    print(f\"{n} is not a perfect number\")\n",
    "        "
   ]
  },
  {
   "cell_type": "code",
   "execution_count": 5,
   "metadata": {},
   "outputs": [
    {
     "name": "stdout",
     "output_type": "stream",
     "text": [
      "1\n",
      "2\n",
      "3\n",
      "4\n",
      "5\n",
      "6\n"
     ]
    }
   ],
   "source": [
    "\n",
    "for j in range(1,7):\n",
    "    print(j)"
   ]
  },
  {
   "cell_type": "code",
   "execution_count": null,
   "metadata": {},
   "outputs": [],
   "source": [
    "lower=int(input(\"enter lower value\"))\n",
    "upper=int(input(\"enter upper value\"))\n",
    "print(f\"perfect number between {lower} and {upper} are:\")\n",
    "def perfect(lower,upper):\n",
    "    sum=0\n",
    "    i=1\n",
    "    for i in range(lower,upper):\n",
    "        if upper%i==0:\n",
    "            sum=sum+i\n",
    "        i=i+1\n",
    "    if sum==n:\n",
    "        print(f\"{sum} is a prime number\")\n",
    "    else:\n",
    "        print(f\"{sum} is not a prime number\")\n",
    "p=\n",
    "    "
   ]
  },
  {
   "cell_type": "code",
   "execution_count": 24,
   "metadata": {},
   "outputs": [
    {
     "name": "stdout",
     "output_type": "stream",
     "text": [
      "enter number to check binary number:4\n",
      "4 is not binary number:\n"
     ]
    }
   ],
   "source": [
    "num= int(input(\"enter number to check binary number:\"))\n",
    "while(num>0):\n",
    "    j= num%10\n",
    "    if j!=0 and j!=1:\n",
    "        print(num, \"is not binary number:\")\n",
    "        break\n",
    "        \n",
    "    num=num//10\n",
    "    if num==0:\n",
    "        print(\"num is binary:\")"
   ]
  },
  {
   "cell_type": "code",
   "execution_count": 1,
   "metadata": {},
   "outputs": [
    {
     "name": "stdout",
     "output_type": "stream",
     "text": [
      "1\n",
      "want to roll the dice again? (y/n): y\n",
      "5\n",
      "want to roll the dice again? (y/n): n\n"
     ]
    }
   ],
   "source": [
    "\n",
    "import random\n",
    "\n",
    "while 1:\n",
    "    print(random.randint(1, 6))\n",
    "    another_roll = input(\"want to roll the dice again? (y/n): \")\n",
    "\n",
    "    if another_roll == \"y\":\n",
    "        continue\n",
    "    else:\n",
    "        break\n"
   ]
  },
  {
   "cell_type": "code",
   "execution_count": null,
   "metadata": {},
   "outputs": [],
   "source": [
    "\n",
    "x1=int(input(\"enter 1st number\"))\n",
    "x2=int(input(\"enter 2nd number\"))\n",
    "x3=int(input(\"enter 3rd number\"))\n",
    "if x1>x2 and x1>x3:\n",
    "    greatest=x1\n",
    "if x2>x1 and x2>x3:\n",
    "    greatest=x2\n",
    "if x3>x1 and x3>x2:\n",
    "    greatest=x3\n",
    "print(\"greatest among {} {} and {} is {}\".format(x1,x2,x3,greatest))\n"
   ]
  },
  {
   "cell_type": "code",
   "execution_count": null,
   "metadata": {},
   "outputs": [],
   "source": [
    "a=int(input(\"enter first number\"))\n",
    "\n",
    "if a>b and a>c:\n",
    "    greatest=a\n",
    "elif b>a and b>c:\n",
    "    gratest=b\n",
    "else:\n",
    "    greatest=c\n",
    "print(\"greatest among {},{},{} is {}\".format(a,b,c,greataest))"
   ]
  },
  {
   "cell_type": "code",
   "execution_count": null,
   "metadata": {},
   "outputs": [],
   "source": [
    "for x in range(1,10):\n",
    "    for y in range(1,10):\n",
    "        print(\"{:02d},\".format(x*y), end=\"\")\n",
    "    print()"
   ]
  },
  {
   "cell_type": "code",
   "execution_count": null,
   "metadata": {},
   "outputs": [],
   "source": [
    "#function that takes another function as an argument:\n",
    "1. map(function, iterables)\n",
    "2.reduce(function,iterables) #inorder to use reduce funtion we have to import reduce module, from functools import reduce\n",
    "3.filter(function,iterables)"
   ]
  },
  {
   "cell_type": "code",
   "execution_count": 2,
   "metadata": {},
   "outputs": [
    {
     "name": "stdout",
     "output_type": "stream",
     "text": [
      "<map object at 0x0000025614434610>\n",
      "(1, 4, 9, 16)\n"
     ]
    }
   ],
   "source": [
    "def function(a):\n",
    "    return a*a\n",
    "x = map(function, (1,2,3,4))  #x is the map object\n",
    "print(x)\n",
    "print(tuple(x))     #set(iterable) set() function is random iterable"
   ]
  },
  {
   "cell_type": "code",
   "execution_count": 3,
   "metadata": {},
   "outputs": [
    {
     "name": "stdout",
     "output_type": "stream",
     "text": [
      "<filter object at 0x00000256143FDE20>\n",
      "[3, 4]\n"
     ]
    }
   ],
   "source": [
    "def func(x):\n",
    "    if x>=3:\n",
    "        return x\n",
    "y = filter(func, (1,2,3,4))  \n",
    "print(y)\n",
    "print(list(y))\n"
   ]
  },
  {
   "cell_type": "code",
   "execution_count": 1,
   "metadata": {},
   "outputs": [
    {
     "name": "stdout",
     "output_type": "stream",
     "text": [
      "[3, 4]\n"
     ]
    }
   ],
   "source": [
    "y = filter(lambda x: (x>=3), (1,2,3,4))\n",
    "print(list(y))"
   ]
  },
  {
   "cell_type": "code",
   "execution_count": 5,
   "metadata": {},
   "outputs": [
    {
     "name": "stdout",
     "output_type": "stream",
     "text": [
      "(1, 4, 9)\n"
     ]
    }
   ],
   "source": [
    "x=map(lambda a:a*a,(1,2,3))\n",
    "print(tuple(x))"
   ]
  },
  {
   "cell_type": "code",
   "execution_count": 5,
   "metadata": {},
   "outputs": [
    {
     "name": "stdout",
     "output_type": "stream",
     "text": [
      "[<function <lambda> at 0x0000011BAAB7B1F0>, [1, 2, 3, 4, 5]]\n"
     ]
    }
   ],
   "source": [
    "y=lambda x:x>3,[1,2,3,4,5]\n",
    "print(list(y))"
   ]
  },
  {
   "cell_type": "code",
   "execution_count": null,
   "metadata": {},
   "outputs": [],
   "source": [
    "from functools import reduce\n",
    "reduce(lambda a,b: a+b,[23,21,45,98])"
   ]
  },
  {
   "cell_type": "code",
   "execution_count": null,
   "metadata": {},
   "outputs": [],
   "source": [
    "tup= (5, 7, 22, 97, 54, 62, 77, 23, 73, 61)\n",
    "newtuple = map(lambda x: x+3 , tup)\n",
    "#print(newtuple)\n",
    "print(tuple(newtuple))"
   ]
  },
  {
   "cell_type": "code",
   "execution_count": 8,
   "metadata": {},
   "outputs": [
    {
     "ename": "TypeError",
     "evalue": "__init__() missing 3 required positional arguments: 'l', 'b', and 'h'",
     "output_type": "error",
     "traceback": [
      "\u001b[1;31m---------------------------------------------------------------------------\u001b[0m",
      "\u001b[1;31mTypeError\u001b[0m                                 Traceback (most recent call last)",
      "\u001b[1;32m<ipython-input-8-fbb6fafd9d25>\u001b[0m in \u001b[0;36m<module>\u001b[1;34m\u001b[0m\n\u001b[0;32m     10\u001b[0m         \u001b[0marea\u001b[0m\u001b[1;33m=\u001b[0m \u001b[0mself\u001b[0m\u001b[1;33m.\u001b[0m\u001b[0ml\u001b[0m\u001b[1;33m*\u001b[0m\u001b[0mself\u001b[0m\u001b[1;33m.\u001b[0m\u001b[0mb\u001b[0m\u001b[1;33m*\u001b[0m\u001b[0mself\u001b[0m\u001b[1;33m.\u001b[0m\u001b[0mh\u001b[0m\u001b[1;33m\u001b[0m\u001b[1;33m\u001b[0m\u001b[0m\n\u001b[0;32m     11\u001b[0m         \u001b[0mprint\u001b[0m\u001b[1;33m(\u001b[0m\u001b[0marea\u001b[0m\u001b[1;33m)\u001b[0m\u001b[1;33m\u001b[0m\u001b[1;33m\u001b[0m\u001b[0m\n\u001b[1;32m---> 12\u001b[1;33m \u001b[0mr1\u001b[0m\u001b[1;33m=\u001b[0m\u001b[0mrectangle\u001b[0m\u001b[1;33m(\u001b[0m\u001b[1;33m)\u001b[0m\u001b[1;33m\u001b[0m\u001b[1;33m\u001b[0m\u001b[0m\n\u001b[0m\u001b[0;32m     13\u001b[0m \u001b[0mr1\u001b[0m\u001b[1;33m.\u001b[0m\u001b[0mvolume\u001b[0m\u001b[1;33m(\u001b[0m\u001b[1;33m)\u001b[0m\u001b[1;33m\u001b[0m\u001b[1;33m\u001b[0m\u001b[0m\n",
      "\u001b[1;31mTypeError\u001b[0m: __init__() missing 3 required positional arguments: 'l', 'b', and 'h'"
     ]
    }
   ],
   "source": [
    "class rectangle:\n",
    "    def __init__(self,l,b,h):\n",
    "        self.l=l\n",
    "        self.b=b\n",
    "        self.h=h\n",
    "    def volume(self):\n",
    "        self.l=int(input(\"enter length:\"))\n",
    "        self.b=int(input(\"enter breadth:\"))\n",
    "        self.h=int(input(\"enter height:\"))\n",
    "        area= self.l*self.b*self.h\n",
    "        print(area)\n",
    "r1=rectangle(3,4,5)\n",
    "r1.volume()"
   ]
  },
  {
   "cell_type": "code",
   "execution_count": 5,
   "metadata": {},
   "outputs": [
    {
     "name": "stdout",
     "output_type": "stream",
     "text": [
      "woof\n",
      "grrr...\n"
     ]
    }
   ],
   "source": [
    "#inheritance bw superclass and subclass\n",
    "class wolf:\n",
    "    def __init__(self,color,name):\n",
    "        self.name=name\n",
    "        self.color=color\n",
    "    \n",
    "    def bark(self):\n",
    "        print(\"grrr...\")\n",
    "class dog(wolf):\n",
    "    def bark(self):\n",
    "        print(\"woof\")\n",
    "        \n",
    "husky=dog(\"max\",\"black\")\n",
    "husky.bark()\n",
    "w=wolf(\"husky\",\"red\")\n",
    "w.bark()\n"
   ]
  },
  {
   "cell_type": "code",
   "execution_count": null,
   "metadata": {},
   "outputs": [],
   "source": [
    "class vector2D:\n",
    "    def __init__(self,x,y):\n",
    "        self.x=x\n",
    "        self.y=y\n",
    "    def __add__(self,other):\n",
    "        return vector2D(self.x+other.x,self.y+other.y)\n",
    "first=vector2D(5,7)\n",
    "second=vector2D(3,4)\n",
    "result=first+second\n",
    "print(result.x)\n",
    "print(result.y)"
   ]
  },
  {
   "cell_type": "code",
   "execution_count": 7,
   "metadata": {},
   "outputs": [
    {
     "data": {
      "text/plain": [
       "24"
      ]
     },
     "execution_count": 7,
     "metadata": {},
     "output_type": "execute_result"
    }
   ],
   "source": [
    "class rectangle:\n",
    "    def __init__(self,l,b,h):\n",
    "        self.l=l\n",
    "        self.b=b\n",
    "        self.h=h\n",
    "    def volume(self):\n",
    "        return self.l*self.b*self.h\n",
    "r=rectangle(2,3,4)\n",
    "r.volume()"
   ]
  },
  {
   "cell_type": "code",
   "execution_count": 5,
   "metadata": {},
   "outputs": [
    {
     "name": "stdout",
     "output_type": "stream",
     "text": [
      "enter row:2\n",
      "enter column:3\n",
      "enter array value:1\n",
      "enter array value:2\n",
      "enter array value:3\n",
      "enter array value:4\n",
      "enter array value:5\n",
      "enter array value:6\n",
      "1 2 3 e\n",
      "4 5 6 e\n",
      "[[1, 2, 3], [4, 5, 6]]\n",
      "sum of matrix 21\n"
     ]
    }
   ],
   "source": [
    "r=int(input(\"enter row:\"))\n",
    "c=int(input(\"enter column:\"))\n",
    "matrix=[]\n",
    "\n",
    "for i in range(r):\n",
    "    a=[]\n",
    "    for j in range(c):\n",
    "        k=int(input(\"enter array value:\"))\n",
    "        a.append(k)\n",
    "    matrix.append(a)\n",
    "for i in range(r):\n",
    "    for j in range(c):\n",
    "        print(matrix[i][j],end=\" \")\n",
    "    print(\"e\")\n",
    "print(matrix)\n",
    "sum=0\n",
    "for i in range(r):\n",
    "    for j in range(c):\n",
    "        sum=sum+matrix[i][j]\n",
    "\n",
    "print('sum of matrix',sum)"
   ]
  },
  {
   "cell_type": "code",
   "execution_count": null,
   "metadata": {},
   "outputs": [],
   "source": [
    "string=\"rubina\"\n",
    "for i in string:\n",
    "    if(i=='u'or i=='i'or i=='a' or i=='e'or i=='o'):\n",
    "        print(\"vowels are:\",i)"
   ]
  },
  {
   "cell_type": "code",
   "execution_count": null,
   "metadata": {},
   "outputs": [],
   "source": [
    "string=\"rubina\"\n",
    "count=0\n",
    "for i in string:\n",
    "    if(i=='u' or i=='i' or i=='a' or i=='e' or i=='o'):\n",
    "        count=count+1\n",
    "print(count)\n"
   ]
  },
  {
   "cell_type": "code",
   "execution_count": null,
   "metadata": {},
   "outputs": [],
   "source": [
    "number=123456\n",
    "count=0\n",
    "while (number>0):\n",
    "    count=count+1\n",
    "    number=number//10\n",
    "print(count)\n",
    "    "
   ]
  },
  {
   "cell_type": "code",
   "execution_count": null,
   "metadata": {},
   "outputs": [],
   "source": [
    "b='abc'\n",
    "print(b[:-1])\n",
    "print(b[-1])\n",
    "print(b[-1:])"
   ]
  },
  {
   "cell_type": "code",
   "execution_count": null,
   "metadata": {},
   "outputs": [],
   "source": [
    "string='cat'\n",
    "reverse =''\n",
    "\n",
    "for i in string:\n",
    "    reverse=i+reverse\n",
    "print(reverse)"
   ]
  },
  {
   "cell_type": "code",
   "execution_count": null,
   "metadata": {},
   "outputs": [],
   "source": [
    "def reverse(string):\n",
    "    reverse_string=\"\"\n",
    "    for i in string:\n",
    "        reverse_string=i+reverse_string\n",
    "    print(reverse_string)\n",
    "string=input(\"enter string:\")\n",
    "print(\"entered string:\",string)\n",
    "reverse(string)"
   ]
  },
  {
   "cell_type": "code",
   "execution_count": 1,
   "metadata": {},
   "outputs": [
    {
     "name": "stdout",
     "output_type": "stream",
     "text": [
      "1\n",
      "2\n",
      "[3, 4, 5, 6, 7, 8]\n",
      "6\n",
      "9\n"
     ]
    }
   ],
   "source": [
    "a,b,*c,d=[1,2,3,4,5,6,7,8,9]\n",
    "print(a)\n",
    "print(b)\n",
    "print(c)\n",
    "print(len(c))\n",
    "print(d)"
   ]
  },
  {
   "cell_type": "code",
   "execution_count": 8,
   "metadata": {},
   "outputs": [
    {
     "name": "stdout",
     "output_type": "stream",
     "text": [
      "navin (23, 'mumbai', 94549357, 'jieffsh')\n",
      "23 mumbai 94549357 jieffsh\n"
     ]
    }
   ],
   "source": [
    "def person(name,*data):\n",
    "    print(name,data)\n",
    "    print(*data)\n",
    "person('navin',23,'mumbai',94549357,'jieffsh')"
   ]
  },
  {
   "cell_type": "code",
   "execution_count": null,
   "metadata": {},
   "outputs": [],
   "source": [
    "def fun(a,b,c):\n",
    "    print(a,b,c)\n",
    "fun(\"rubina\",\"asif\",\"rakshak\")#\"rahman\"\n",
    "\n",
    "def fun(*arg):\n",
    "    print(*arg)\n",
    "fun(\"a\",\"b\",\"c\",\"d\")"
   ]
  },
  {
   "cell_type": "code",
   "execution_count": null,
   "metadata": {},
   "outputs": [],
   "source": [
    "def function_name(*args):#named the \n",
    "    print(*args)\n",
    "function_name(\"h\",\"a\",\"r\",\"r\",\"y\",\"ru\")"
   ]
  },
  {
   "cell_type": "code",
   "execution_count": null,
   "metadata": {},
   "outputs": [],
   "source": [
    "def function(*args):\n",
    "    for i in args:\n",
    "        print(i)\n",
    "#a=(\"h\",\"a\",\"r\",\"r\",\"y\",\"ru\")\n",
    "function(\"h\",\"a\",\"r\",\"r\",\"y\",\"ru\")"
   ]
  },
  {
   "cell_type": "code",
   "execution_count": 9,
   "metadata": {},
   "outputs": [
    {
     "name": "stdout",
     "output_type": "stream",
     "text": [
      "navin\n",
      "{'age': 23, 'state': 'mumbai', 'mob': 94549357, 'others': 'jieffsh'}\n"
     ]
    }
   ],
   "source": [
    "def person(name,**data):\n",
    "    print(name)\n",
    "    print(data)\n",
    "person('navin',age=23,state='mumbai',mob=94549357,others='jieffsh')"
   ]
  },
  {
   "cell_type": "code",
   "execution_count": 10,
   "metadata": {},
   "outputs": [
    {
     "name": "stdout",
     "output_type": "stream",
     "text": [
      "enter 1st element:2\n",
      "enter 2nd element:3\n",
      "enter no.of element:10\n",
      "2 3 "
     ]
    }
   ],
   "source": [
    "a=int(input(\"enter 1st element:\"))\n",
    "b=int(input(\"enter 2nd element:\"))\n",
    "n=int(input(\"enter no.of element:\"))\n",
    "print(a,b,end=\" \")\n",
    "def fibo(n):\n",
    "    \n",
    "    while(n-2):\n",
    "        \n",
    "        sum=a+b\n",
    "        a=b\n",
    "        b=sum\n",
    "        print(sum,end=' ')\n",
    "        n=n-1\n",
    "    if n<=1:\n",
    "        return n\n",
    "    else:\n",
    "        return(fibo(i))"
   ]
  },
  {
   "cell_type": "code",
   "execution_count": 2,
   "metadata": {},
   "outputs": [
    {
     "name": "stdout",
     "output_type": "stream",
     "text": [
      "enter 1st element:4\n",
      "enter 2nd element:5\n",
      "enter no.of element:3\n",
      "4 5 9 "
     ]
    },
    {
     "ename": "SyntaxError",
     "evalue": "'return' outside function (<ipython-input-2-772874dcb523>, line 12)",
     "output_type": "error",
     "traceback": [
      "\u001b[1;36m  File \u001b[1;32m\"<ipython-input-2-772874dcb523>\"\u001b[1;36m, line \u001b[1;32m12\u001b[0m\n\u001b[1;33m    return n\u001b[0m\n\u001b[1;37m    ^\u001b[0m\n\u001b[1;31mSyntaxError\u001b[0m\u001b[1;31m:\u001b[0m 'return' outside function\n"
     ]
    }
   ],
   "source": [
    "a=int(input(\"enter 1st element:\"))\n",
    "b=int(input(\"enter 2nd element:\"))\n",
    "n=int(input(\"enter no.of element:\"))\n",
    "print(a,b,end=\" \")\n",
    "while(n-2):\n",
    "  sum=a+b\n",
    "  a=b\n",
    "  b=sum\n",
    "  print(sum,end=' ')\n",
    "  n=n-1\n",
    "if n<=1:\n",
    "    return n"
   ]
  },
  {
   "cell_type": "code",
   "execution_count": null,
   "metadata": {},
   "outputs": [],
   "source": [
    "#polymorphism=many forms\n",
    "#polymorphism is the ability of an object to adopt the code to the type of data pressising, \n",
    "#polymorphism helps us to define an action reagrdless of type of object\n",
    "#in this we can create two similar function and we can pass different functionalities\n",
    "\n",
    "class dog:\n",
    "    def sound(self):\n",
    "        print(\"bow bow\")\n",
    "class cat:\n",
    "    def sound(self):\n",
    "        print(\"meow\")\n",
    "def makesound(animaltype):\n",
    "    animaltype.sound()\n",
    "c=cat()\n",
    "d=dog()\n",
    "makesound(c)\n",
    "makesound(d)"
   ]
  },
  {
   "cell_type": "code",
   "execution_count": null,
   "metadata": {},
   "outputs": [],
   "source": [
    "#polymorphism\n",
    "\n",
    "class dog:\n",
    "    def __init__(self,str):\n",
    "        self.name=str\n",
    "    def sound(self):\n",
    "        print(\"bow bow\")\n",
    "class cat:\n",
    "    def __init__(self,str):\n",
    "        self.name=str\n",
    "        def sound(self):\n",
    "            print(\"meow meow\")\n",
    "class cow:\n",
    "    def __init__(self,str):\n",
    "        self.name=str\n",
    "        def sound(self):\n",
    "            print(\"moo moo\")\n",
    "\n",
    "animals=[dog(\"tony\"),cat(\"lucy\"),cow(\"sahiwacowal\")]\n",
    "\n",
    "for i in animals:\n",
    "    i.sound()"
   ]
  },
  {
   "cell_type": "code",
   "execution_count": 12,
   "metadata": {},
   "outputs": [
    {
     "name": "stdout",
     "output_type": "stream",
     "text": [
      "enter number:5\n",
      "1 + 2 + 3 + 4 + 5 = 15\n"
     ]
    }
   ],
   "source": [
    "n=int(input(\"enter number:\"))\n",
    "a=[]\n",
    "for i in range(1,n+1):\n",
    "    print(i,end=\" \")\n",
    "    if i<n:\n",
    "        print(\"+\",end=\" \")\n",
    "    a.append(i)\n",
    "print('=',sum(a))\n"
   ]
  },
  {
   "cell_type": "code",
   "execution_count": 3,
   "metadata": {},
   "outputs": [
    {
     "name": "stdout",
     "output_type": "stream",
     "text": [
      "Enter the first number:4\n",
      "Enter the second number:5\n",
      "LCM is: 20\n"
     ]
    }
   ],
   "source": [
    "a=int(input(\"Enter the first number:\"))\n",
    "b=int(input(\"Enter the second number:\"))\n",
    "if(a>b):\n",
    "    min1=a\n",
    "else:\n",
    "    min1=b\n",
    "while(1):\n",
    "    if(min1%a==0 and min1%b==0):\n",
    "        print(\"LCM is:\",min1)\n",
    "        break\n",
    "    min1=min1+1"
   ]
  },
  {
   "cell_type": "code",
   "execution_count": 4,
   "metadata": {},
   "outputs": [
    {
     "name": "stdout",
     "output_type": "stream",
     "text": [
      "enter range:3\n",
      "enter number in list a[]:1\n",
      "[1]\n",
      "enter number in list a[]:2\n",
      "[1, 2]\n",
      "enter number in list a[]:3\n",
      "[1, 2, 3]\n",
      "[2]\n",
      "[1, 3]\n"
     ]
    }
   ],
   "source": [
    "a=[]\n",
    "n=int(input(\"enter range:\"))\n",
    "for i in range(1,n+1):\n",
    "    b=int(input(\"enter number in list a[]:\"))\n",
    "    a.append(b)\n",
    "    print(a)\n",
    "even=[]\n",
    "odd=[]\n",
    "for j in a:\n",
    "    if j%2==0:\n",
    "        even.append(j)\n",
    "    else:\n",
    "        odd.append(j)\n",
    "print(even)\n",
    "print(odd)"
   ]
  },
  {
   "cell_type": "code",
   "execution_count": null,
   "metadata": {},
   "outputs": [],
   "source": [
    "d={'A':1,'B':2,'C':3}\n",
    "key=input(\"Enter key to check:\")\n",
    "if key in d.keys():\n",
    "      print(\"Key is present and value of the key is:\")\n",
    "      print(d[key])\n",
    "else:\n",
    "      print(\"Key isn't present!\")"
   ]
  },
  {
   "cell_type": "code",
   "execution_count": 5,
   "metadata": {},
   "outputs": [
    {
     "name": "stdout",
     "output_type": "stream",
     "text": [
      "23900\n"
     ]
    }
   ],
   "source": [
    "d={'A':10,'B':10,'C':239}\n",
    "tot=1\n",
    "for i in d:    \n",
    "    tot=tot*d[i]\n",
    "print(tot)"
   ]
  },
  {
   "cell_type": "code",
   "execution_count": 10,
   "metadata": {},
   "outputs": [
    {
     "name": "stdout",
     "output_type": "stream",
     "text": [
      "Enter first number:3\n",
      "Enter second number:4\n",
      "Enter third number:6\n",
      "3 4 6\n",
      "3 6 4\n",
      "4 3 6\n",
      "4 6 3\n",
      "6 3 4\n",
      "6 4 3\n"
     ]
    }
   ],
   "source": [
    " \n",
    "a=int(input(\"Enter first number:\"))\n",
    "b=int(input(\"Enter second number:\"))\n",
    "c=int(input(\"Enter third number:\"))\n",
    "d=[]\n",
    "d.append(a)\n",
    "d.append(b)\n",
    "d.append(c)\n",
    "for i in range(0,3):\n",
    "    for j in range(0,3):\n",
    "        for k in range(0,3):\n",
    "            if(i!=j&j!=k&k!=i):\n",
    "                print(d[i],d[j],d[k])"
   ]
  },
  {
   "cell_type": "code",
   "execution_count": 21,
   "metadata": {},
   "outputs": [
    {
     "name": "stdout",
     "output_type": "stream",
     "text": [
      "1\n"
     ]
    },
    {
     "ename": "IndexError",
     "evalue": "list index out of range",
     "output_type": "error",
     "traceback": [
      "\u001b[1;31m---------------------------------------------------------------------------\u001b[0m",
      "\u001b[1;31mIndexError\u001b[0m                                Traceback (most recent call last)",
      "\u001b[1;32m<ipython-input-21-15ab9eccd03c>\u001b[0m in \u001b[0;36m<module>\u001b[1;34m\u001b[0m\n\u001b[0;32m      3\u001b[0m \u001b[1;32mfor\u001b[0m \u001b[0mi\u001b[0m \u001b[1;32min\u001b[0m \u001b[0mrange\u001b[0m\u001b[1;33m(\u001b[0m\u001b[0mlen\u001b[0m\u001b[1;33m(\u001b[0m\u001b[0mdata\u001b[0m\u001b[1;33m)\u001b[0m\u001b[1;33m)\u001b[0m\u001b[1;33m:\u001b[0m\u001b[1;33m\u001b[0m\u001b[1;33m\u001b[0m\u001b[0m\n\u001b[0;32m      4\u001b[0m     \u001b[1;32mfor\u001b[0m \u001b[0mj\u001b[0m \u001b[1;32min\u001b[0m \u001b[0mrange\u001b[0m\u001b[1;33m(\u001b[0m\u001b[0mi\u001b[0m\u001b[1;33m+\u001b[0m\u001b[1;36m1\u001b[0m\u001b[1;33m,\u001b[0m\u001b[0mlen\u001b[0m\u001b[1;33m(\u001b[0m\u001b[0mdata\u001b[0m\u001b[1;33m)\u001b[0m\u001b[1;33m)\u001b[0m\u001b[1;33m:\u001b[0m\u001b[1;33m\u001b[0m\u001b[1;33m\u001b[0m\u001b[0m\n\u001b[1;32m----> 5\u001b[1;33m         \u001b[1;32mif\u001b[0m \u001b[0mdata\u001b[0m\u001b[1;33m[\u001b[0m\u001b[0mi\u001b[0m\u001b[1;33m]\u001b[0m\u001b[1;33m==\u001b[0m\u001b[0mdata\u001b[0m\u001b[1;33m[\u001b[0m\u001b[0mj\u001b[0m\u001b[1;33m]\u001b[0m\u001b[1;33m:\u001b[0m\u001b[1;33m\u001b[0m\u001b[1;33m\u001b[0m\u001b[0m\n\u001b[0m\u001b[0;32m      6\u001b[0m             \u001b[0mprint\u001b[0m\u001b[1;33m(\u001b[0m\u001b[0mdata\u001b[0m\u001b[1;33m[\u001b[0m\u001b[0mi\u001b[0m\u001b[1;33m]\u001b[0m\u001b[1;33m)\u001b[0m\u001b[1;33m\u001b[0m\u001b[1;33m\u001b[0m\u001b[0m\n\u001b[0;32m      7\u001b[0m             \u001b[0mdata2\u001b[0m\u001b[1;33m.\u001b[0m\u001b[0mappend\u001b[0m\u001b[1;33m(\u001b[0m\u001b[0mdata\u001b[0m\u001b[1;33m[\u001b[0m\u001b[0mi\u001b[0m\u001b[1;33m]\u001b[0m\u001b[1;33m)\u001b[0m\u001b[1;33m\u001b[0m\u001b[1;33m\u001b[0m\u001b[0m\n",
      "\u001b[1;31mIndexError\u001b[0m: list index out of range"
     ]
    }
   ],
   "source": [
    "data=[1,2,3,3,4,4,1,2,7]\n",
    "data2=[]\n",
    "for i in range(len(data)):\n",
    "    for j in range(i+1,len(data)):\n",
    "        if data[i]==data[j]:\n",
    "            print(data[i])\n",
    "            data2.append(data[i])\n",
    "            \n",
    "print(data2)\n",
    "\n",
    "\n",
    "  "
   ]
  },
  {
   "cell_type": "code",
   "execution_count": 13,
   "metadata": {},
   "outputs": [
    {
     "name": "stdout",
     "output_type": "stream",
     "text": [
      "range(0, 9)\n",
      "[2, 4, 5, 6]\n"
     ]
    }
   ],
   "source": [
    "list=[2,4,2,5,2,6,6,4,5]\n",
    "print(range(len(list)))\n",
    "list2=[]\n",
    "for i in range(len(list)):\n",
    "    for j in range(i+1,len(list)):\n",
    "        if list[i]==list[j] and list[i] not in list2:\n",
    "            list2.append(list[i])\n",
    "print(list2)"
   ]
  },
  {
   "cell_type": "code",
   "execution_count": 6,
   "metadata": {},
   "outputs": [
    {
     "name": "stdout",
     "output_type": "stream",
     "text": [
      "2\n",
      "4\n",
      "2\n",
      "5\n",
      "2\n",
      "6\n",
      "0 2\n",
      "1 4\n",
      "2 2\n",
      "3 5\n",
      "4 2\n",
      "5 6\n"
     ]
    }
   ],
   "source": [
    "for i in list:\n",
    "    print(i)\n",
    "\n",
    "list=[2,4,2,5,2,6]\n",
    "for i,n in enumerate(list):\n",
    "    print(i,n)"
   ]
  },
  {
   "cell_type": "code",
   "execution_count": 6,
   "metadata": {},
   "outputs": [
    {
     "name": "stdout",
     "output_type": "stream",
     "text": [
      "enter value to array a:1\n",
      "enter value to array a:2\n",
      "enter value to array a:3\n",
      "[[1, 2, 3]]\n",
      "enter value to array a:4\n",
      "enter value to array a:5\n",
      "enter value to array a:6\n",
      "[[1, 2, 3], [4, 5, 6]]\n",
      "1 2 3 \n",
      "4 5 6 \n",
      "[[1, 2, 3], [4, 5, 6]]\n"
     ]
    }
   ],
   "source": [
    "row=2\n",
    "col=3\n",
    "matrix=[]\n",
    "for i in range(row):\n",
    "    a=[]\n",
    "    for j in range(col):\n",
    "        k=int(input(\"enter value to array a:\"))\n",
    "        a.append(k)\n",
    "    matrix.append(a)\n",
    "    print(matrix)\n",
    "for i in range(row):\n",
    "    for j in range(col):\n",
    "        print(matrix[i][j],end=\" \")\n",
    "    print()\n",
    "print(matrix)\n",
    "        \n",
    "    \n",
    "        "
   ]
  },
  {
   "cell_type": "code",
   "execution_count": 3,
   "metadata": {},
   "outputs": [
    {
     "name": "stdout",
     "output_type": "stream",
     "text": [
      "5\n"
     ]
    }
   ],
   "source": [
    "#Find the value of n where n degrees of number 2 are written sequentially in a line without spaces\n",
    "\n",
    "def ndegrees(num):\n",
    "    ans = True\n",
    "    n=2\n",
    "    tempn=2\n",
    "    i = 1\n",
    "    while ans:\n",
    "        if str(tempn) in num:\n",
    "            i += 1\n",
    "            tempn = pow(n, i)\n",
    "        else:\n",
    "            ans = False\n",
    "    return i-1;\n",
    "print(ndegrees(\"2481632\"))"
   ]
  },
  {
   "cell_type": "code",
   "execution_count": 9,
   "metadata": {},
   "outputs": [
    {
     "name": "stdout",
     "output_type": "stream",
     "text": [
      "Enter multiple value: 12345\n",
      "Number of list is:  [12345]\n"
     ]
    }
   ],
   "source": [
    "# taking multiple inputs at a time separated by comma\n",
    "x = [int(x) for x in input(\"Enter multiple value: \").split(\",\")]\n",
    "print(\"Number of list is: \", x) "
   ]
  },
  {
   "cell_type": "code",
   "execution_count": 10,
   "metadata": {},
   "outputs": [
    {
     "name": "stdout",
     "output_type": "stream",
     "text": [
      "Enter multiple values: 1234\n",
      "Number of list is:  [1234]\n"
     ]
    }
   ],
   "source": [
    "# taking multiple inputs at a time \n",
    "x = [int(x) for x in input(\"Enter multiple values: \").split()]\n",
    "print(\"Number of list is: \", x) "
   ]
  },
  {
   "cell_type": "code",
   "execution_count": 4,
   "metadata": {},
   "outputs": [
    {
     "data": {
      "text/plain": [
       "[0, 2, 4]"
      ]
     },
     "execution_count": 4,
     "metadata": {},
     "output_type": "execute_result"
    }
   ],
   "source": [
    "def three_sum(nums,target):\n",
    "    \n",
    "    for i in range(len(nums)):\n",
    "        for j in range(i+1,len(nums)):\n",
    "            for k in range(i+2,len(nums)):\n",
    "                sum=nums[i]+nums[j]+nums[k]\n",
    "                if sum==target:\n",
    "                    return[i,j,k]\n",
    "three_sum([-2,2,4,5,-2],0)\n",
    "\n"
   ]
  },
  {
   "cell_type": "code",
   "execution_count": null,
   "metadata": {},
   "outputs": [],
   "source": []
  }
 ],
 "metadata": {
  "kernelspec": {
   "display_name": "Python 3",
   "language": "python",
   "name": "python3"
  },
  "language_info": {
   "codemirror_mode": {
    "name": "ipython",
    "version": 3
   },
   "file_extension": ".py",
   "mimetype": "text/x-python",
   "name": "python",
   "nbconvert_exporter": "python",
   "pygments_lexer": "ipython3",
   "version": "3.9.1"
  }
 },
 "nbformat": 4,
 "nbformat_minor": 4
}
